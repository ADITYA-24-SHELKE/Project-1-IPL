{
  "nbformat": 4,
  "nbformat_minor": 0,
  "metadata": {
    "colab": {
      "provenance": [],
      "authorship_tag": "ABX9TyO1er7HappIO5IRuVRVSqA3",
      "include_colab_link": true
    },
    "kernelspec": {
      "name": "python3",
      "display_name": "Python 3"
    },
    "language_info": {
      "name": "python"
    }
  },
  "cells": [
    {
      "cell_type": "markdown",
      "metadata": {
        "id": "view-in-github",
        "colab_type": "text"
      },
      "source": [
        "<a href=\"https://colab.research.google.com/github/ADITYA-24-SHELKE/Project-1-IPL/blob/main/Untitled1.ipynb\" target=\"_parent\"><img src=\"https://colab.research.google.com/assets/colab-badge.svg\" alt=\"Open In Colab\"/></a>"
      ]
    },
    {
      "cell_type": "code",
      "source": [
        "# ===============================================================\n",
        "# === THE INTERACTIVE PREDICTION BOT ============================\n",
        "# ===============================================================\n",
        "\n",
        "# --- Part 1: Train our Best Model (from the previous lesson) ---\n",
        "import pandas as pd\n",
        "from sklearn.ensemble import RandomForestClassifier\n",
        "\n",
        "# Load data\n",
        "url = 'https://raw.githubusercontent.com/datasciencedojo/datasets/master/titanic.csv'\n",
        "df = pd.read_csv(url)\n",
        "df_class = df.copy()\n",
        "\n",
        "# Data Cleaning\n",
        "for col in ['Age', 'Fare']:\n",
        "    df_class[col].fillna(df_class[col].median(), inplace=True)\n",
        "for col in ['Embarked']:\n",
        "    df_class[col].fillna(df_class[col].mode()[0], inplace=True)\n",
        "\n",
        "# Feature Engineering\n",
        "df_class['FamilySize'] = df_class['SibSp'] + df_class['Parch'] + 1\n",
        "df_class['IsAlone'] = 0\n",
        "df_class.loc[df_class['FamilySize'] == 1, 'IsAlone'] = 1\n",
        "df_class = pd.get_dummies(df_class, columns=['Sex', 'Embarked'], drop_first=True)\n",
        "\n",
        "# Final Feature Selection & Training\n",
        "feature_columns = ['Pclass', 'Age', 'Fare', 'FamilySize', 'IsAlone', 'Sex_male', 'Embarked_Q', 'Embarked_S']\n",
        "X = df_class[feature_columns]\n",
        "y = df_class['Survived']\n",
        "\n",
        "# We train the model on the ENTIRE dataset to make it as smart as possible for the bot\n",
        "final_model = RandomForestClassifier(n_estimators=100, random_state=42, max_depth=5)\n",
        "final_model.fit(X, y)\n",
        "\n",
        "print(\"--- Titanic Survival Predictor Bot is Ready! ---\")\n",
        "\n",
        "\n",
        "# --- Part 2: The Interactive Bot Function ---\n",
        "def predict_survival():\n",
        "    \"\"\"\n",
        "    This function asks the user for passenger details, processes them,\n",
        "    and uses the trained model to make a prediction.\n",
        "    \"\"\"\n",
        "    # Create a dictionary to hold the passenger's data\n",
        "    passenger = {}\n",
        "\n",
        "    # --- Get User Input ---\n",
        "    print(\"\\nPlease enter the passenger's details:\")\n",
        "    passenger['Pclass'] = int(input(\"Ticket Class (1, 2, or 3): \"))\n",
        "    passenger['Age'] = float(input(\"Age (e.g., 30): \"))\n",
        "    sex_input = input(\"Sex (male/female): \").lower()\n",
        "    passenger['SibSp'] = int(input(\"Number of Siblings/Spouses aboard: \"))\n",
        "    passenger['Parch'] = int(input(\"Number of Parents/Children aboard: \"))\n",
        "    passenger['Fare'] = float(input(\"Ticket Fare (e.g., 7.25): \"))\n",
        "    embarked_input = input(\"Port of Embarkation (C=Cherbourg, Q=Queenstown, S=Southampton): \").upper()\n",
        "\n",
        "    # --- Process the Input into Features ---\n",
        "    # Convert text to numbers, same as we did for the training data\n",
        "    passenger['Sex_male'] = 1 if sex_input == 'male' else 0\n",
        "    passenger['Embarked_Q'] = 1 if embarked_input == 'Q' else 0\n",
        "    passenger['Embarked_S'] = 1 if embarked_input == 'S' else 0\n",
        "\n",
        "    # Engineer the new features\n",
        "    passenger['FamilySize'] = passenger['SibSp'] + passenger['Parch'] + 1\n",
        "    passenger['IsAlone'] = 1 if passenger['FamilySize'] == 1 else 0\n",
        "\n",
        "    # --- Create a DataFrame for the model ---\n",
        "    # The model expects a DataFrame in a specific order\n",
        "    passenger_df = pd.DataFrame([passenger], columns=feature_columns)\n",
        "\n",
        "    # --- Make the Prediction ---\n",
        "    prediction = final_model.predict(passenger_df)\n",
        "    prediction_proba = final_model.predict_proba(passenger_df)\n",
        "\n",
        "    # --- Display the Result ---\n",
        "    print(\"\\n--- Prediction Report ---\")\n",
        "    if prediction[0] == 1:\n",
        "        print(\"Prediction: SURVIVED\")\n",
        "        print(f\"Confidence: {prediction_proba[0][1]*100:.2f}%\")\n",
        "    else:\n",
        "        print(\"Prediction: PERISHED\")\n",
        "        print(f\"Confidence: {prediction_proba[0][0]*100:.2f}%\")\n",
        "\n",
        "# --- Run the bot ---\n",
        "predict_survival()"
      ],
      "metadata": {
        "colab": {
          "base_uri": "https://localhost:8080/"
        },
        "id": "to9aN28-YZj4",
        "outputId": "1f71bfff-6af6-4d2f-8063-654e6fb45868"
      },
      "execution_count": 2,
      "outputs": [
        {
          "output_type": "stream",
          "name": "stderr",
          "text": [
            "/tmp/ipython-input-3587445124.py:16: FutureWarning: A value is trying to be set on a copy of a DataFrame or Series through chained assignment using an inplace method.\n",
            "The behavior will change in pandas 3.0. This inplace method will never work because the intermediate object on which we are setting values always behaves as a copy.\n",
            "\n",
            "For example, when doing 'df[col].method(value, inplace=True)', try using 'df.method({col: value}, inplace=True)' or df[col] = df[col].method(value) instead, to perform the operation inplace on the original object.\n",
            "\n",
            "\n",
            "  df_class[col].fillna(df_class[col].median(), inplace=True)\n",
            "/tmp/ipython-input-3587445124.py:18: FutureWarning: A value is trying to be set on a copy of a DataFrame or Series through chained assignment using an inplace method.\n",
            "The behavior will change in pandas 3.0. This inplace method will never work because the intermediate object on which we are setting values always behaves as a copy.\n",
            "\n",
            "For example, when doing 'df[col].method(value, inplace=True)', try using 'df.method({col: value}, inplace=True)' or df[col] = df[col].method(value) instead, to perform the operation inplace on the original object.\n",
            "\n",
            "\n",
            "  df_class[col].fillna(df_class[col].mode()[0], inplace=True)\n"
          ]
        },
        {
          "output_type": "stream",
          "name": "stdout",
          "text": [
            "--- Titanic Survival Predictor Bot is Ready! ---\n",
            "\n",
            "Please enter the passenger's details:\n",
            "Ticket Class (1, 2, or 3): 1\n",
            "Age (e.g., 30): 25\n",
            "Sex (male/female): male\n",
            "Number of Siblings/Spouses aboard: 0\n",
            "Number of Parents/Children aboard: 0\n",
            "Ticket Fare (e.g., 7.25): 5\n",
            "Port of Embarkation (C=Cherbourg, Q=Queenstown, S=Southampton): c\n",
            "\n",
            "--- Prediction Report ---\n",
            "Prediction: PERISHED\n",
            "Confidence: 77.23%\n"
          ]
        }
      ]
    },
    {
      "cell_type": "code",
      "source": [
        "# === CELL TO CHECK BOT ACCURACY ===\n",
        "\n",
        "# Find a specific passenger to test (e.g., a 1st class female who survived)\n",
        "test_passenger = df.iloc[1] # .iloc[1] gets the second passenger in the list\n",
        "\n",
        "print(\"--- Use these details to test the bot ---\")\n",
        "print(f\"Ticket Class: {test_passenger['Pclass']}\")\n",
        "print(f\"Age: {test_passenger['Age']:.0f}\")\n",
        "print(f\"Sex: {test_passenger['Sex']}\")\n",
        "print(f\"Siblings/Spouses: {test_passenger['SibSp']}\")\n",
        "print(f\"Parents/Children: {test_passenger['Parch']}\")\n",
        "print(f\"Fare: {test_passenger['Fare']:.2f}\")\n",
        "print(f\"Port of Embarkation: {test_passenger['Embarked']}\")\n",
        "print(\"-----------------------------------------\")\n",
        "print(f\"ACTUAL HISTORICAL OUTCOME: {'SURVIVED' if test_passenger['Survived'] == 1 else 'PERISHED'}\")"
      ],
      "metadata": {
        "colab": {
          "base_uri": "https://localhost:8080/"
        },
        "id": "koGOsXihbPrt",
        "outputId": "510cb70e-f06c-4b63-fce9-e20a77012648"
      },
      "execution_count": 3,
      "outputs": [
        {
          "output_type": "stream",
          "name": "stdout",
          "text": [
            "--- Use these details to test the bot ---\n",
            "Ticket Class: 1\n",
            "Age: 38\n",
            "Sex: female\n",
            "Siblings/Spouses: 1\n",
            "Parents/Children: 0\n",
            "Fare: 71.28\n",
            "Port of Embarkation: C\n",
            "-----------------------------------------\n",
            "ACTUAL HISTORICAL OUTCOME: SURVIVED\n"
          ]
        }
      ]
    },
    {
      "cell_type": "code",
      "source": [
        "# ===============================================================\n",
        "# === THE AI BOT WEB APP (using Gradio) =========================\n",
        "# ===============================================================\n",
        "\n",
        "# Step 1: Install Gradio (the library for our web UI)\n",
        "!pip install gradio -q\n",
        "\n",
        "import gradio as gr\n",
        "import pandas as pd\n",
        "from sklearn.ensemble import RandomForestClassifier\n",
        "\n",
        "# Step 2: Train our Best Model (same as before)\n",
        "# This needs to be in the same cell so the web app can access the model\n",
        "url = 'https://raw.githubusercontent.com/datasciencedojo/datasets/master/titanic.csv'\n",
        "df = pd.read_csv(url)\n",
        "df_class = df.copy()\n",
        "\n",
        "# Data Cleaning\n",
        "for col in ['Age', 'Fare']:\n",
        "    df_class[col].fillna(df_class[col].median(), inplace=True)\n",
        "for col in ['Embarked']:\n",
        "    df_class[col].fillna(df_class[col].mode()[0], inplace=True)\n",
        "\n",
        "# Feature Engineering & Preprocessing\n",
        "df_class['FamilySize'] = df_class['SibSp'] + df_class['Parch'] + 1\n",
        "df_class['IsAlone'] = 0\n",
        "df_class.loc[df_class['FamilySize'] == 1, 'IsAlone'] = 1\n",
        "df_class = pd.get_dummies(df_class, columns=['Sex', 'Embarked'], drop_first=True)\n",
        "\n",
        "feature_columns = ['Pclass', 'Age', 'Fare', 'FamilySize', 'IsAlone', 'Sex_male', 'Embarked_Q', 'Embarked_S']\n",
        "X = df_class[feature_columns]\n",
        "y = df_class['Survived']\n",
        "\n",
        "final_model = RandomForestClassifier(n_estimators=100, random_state=42, max_depth=5)\n",
        "final_model.fit(X, y)\n",
        "\n",
        "print(\"--- Model Trained and Ready for the Web App ---\")\n",
        "\n",
        "\n",
        "# Step 3: Create the Prediction Function for the Web Interface\n",
        "# This function takes arguments from the web form and returns the prediction.\n",
        "def predict_survival(pclass, age, sex, sibsp, parch, fare, embarked):\n",
        "    # --- Process the Input into Features ---\n",
        "    sex_male = 1 if sex == 'male' else 0\n",
        "    embarked_q = 1 if embarked == 'Queenstown' else 0\n",
        "    embarked_s = 1 if embarked == 'Southampton' else 0\n",
        "\n",
        "    family_size = sibsp + parch + 1\n",
        "    is_alone = 1 if family_size == 1 else 0\n",
        "\n",
        "    # Create a dictionary for the passenger's data in the correct order\n",
        "    passenger = {\n",
        "        'Pclass': pclass, 'Age': age, 'Fare': fare, 'FamilySize': family_size,\n",
        "        'IsAlone': is_alone, 'Sex_male': sex_male, 'Embarked_Q': embarked_q,\n",
        "        'Embarked_S': embarked_s\n",
        "    }\n",
        "\n",
        "    # Create a DataFrame for the model\n",
        "    passenger_df = pd.DataFrame([passenger], columns=feature_columns)\n",
        "\n",
        "    # Make the prediction\n",
        "    prediction_proba = final_model.predict_proba(passenger_df)\n",
        "\n",
        "    # Format the output for display\n",
        "    confidence_survived = prediction_proba[0][1] * 100\n",
        "    confidence_perished = prediction_proba[0][0] * 100\n",
        "\n",
        "    return f\"Survived: {confidence_survived:.2f}%\\nPerished: {confidence_perished:.2f}%\"\n",
        "\n",
        "# Step 4: Create and Launch the Gradio Web Interface\n",
        "# We define the input controls for our web form\n",
        "inputs = [\n",
        "    gr.Radio([1, 2, 3], label=\"Ticket Class\"),\n",
        "    gr.Slider(0, 100, label=\"Age\"),\n",
        "    gr.Radio(['male', 'female'], label=\"Sex\"),\n",
        "    gr.Slider(0, 10, step=1, label=\"Number of Siblings/Spouses Aboard\"),\n",
        "    gr.Slider(0, 10, step=1, label=\"Number of Parents/Children Aboard\"),\n",
        "    gr.Number(label=\"Ticket Fare\"),\n",
        "    gr.Radio(['Southampton', 'Cherbourg', 'Queenstown'], label=\"Port of Embarkation\")\n",
        "]\n",
        "\n",
        "# The output component is a simple textbox\n",
        "outputs = gr.Textbox(label=\"Prediction Confidence\")\n",
        "\n",
        "# Create the interface and launch it!\n",
        "app = gr.Interface(fn=predict_survival, inputs=inputs, outputs=outputs,\n",
        "                   title=\"Titanic Survival Predictor\",\n",
        "                   description=\"Enter a passenger's details to predict their chances of survival. Powered by a RandomForest AI model.\")\n",
        "\n",
        "app.launch(share=True) # share=True creates a public, shareable link"
      ],
      "metadata": {
        "colab": {
          "base_uri": "https://localhost:8080/",
          "height": 871
        },
        "id": "5JV4dkukb1UT",
        "outputId": "dba86b18-b168-4824-8090-b75759c2685c"
      },
      "execution_count": 4,
      "outputs": [
        {
          "output_type": "stream",
          "name": "stderr",
          "text": [
            "/tmp/ipython-input-3459764543.py:20: FutureWarning: A value is trying to be set on a copy of a DataFrame or Series through chained assignment using an inplace method.\n",
            "The behavior will change in pandas 3.0. This inplace method will never work because the intermediate object on which we are setting values always behaves as a copy.\n",
            "\n",
            "For example, when doing 'df[col].method(value, inplace=True)', try using 'df.method({col: value}, inplace=True)' or df[col] = df[col].method(value) instead, to perform the operation inplace on the original object.\n",
            "\n",
            "\n",
            "  df_class[col].fillna(df_class[col].median(), inplace=True)\n",
            "/tmp/ipython-input-3459764543.py:22: FutureWarning: A value is trying to be set on a copy of a DataFrame or Series through chained assignment using an inplace method.\n",
            "The behavior will change in pandas 3.0. This inplace method will never work because the intermediate object on which we are setting values always behaves as a copy.\n",
            "\n",
            "For example, when doing 'df[col].method(value, inplace=True)', try using 'df.method({col: value}, inplace=True)' or df[col] = df[col].method(value) instead, to perform the operation inplace on the original object.\n",
            "\n",
            "\n",
            "  df_class[col].fillna(df_class[col].mode()[0], inplace=True)\n"
          ]
        },
        {
          "output_type": "stream",
          "name": "stdout",
          "text": [
            "--- Model Trained and Ready for the Web App ---\n",
            "Colab notebook detected. To show errors in colab notebook, set debug=True in launch()\n",
            "* Running on public URL: https://23d23764d5073e4bd1.gradio.live\n",
            "\n",
            "This share link expires in 1 week. For free permanent hosting and GPU upgrades, run `gradio deploy` from the terminal in the working directory to deploy to Hugging Face Spaces (https://huggingface.co/spaces)\n"
          ]
        },
        {
          "output_type": "display_data",
          "data": {
            "text/plain": [
              "<IPython.core.display.HTML object>"
            ],
            "text/html": [
              "<div><iframe src=\"https://23d23764d5073e4bd1.gradio.live\" width=\"100%\" height=\"500\" allow=\"autoplay; camera; microphone; clipboard-read; clipboard-write;\" frameborder=\"0\" allowfullscreen></iframe></div>"
            ]
          },
          "metadata": {}
        },
        {
          "output_type": "execute_result",
          "data": {
            "text/plain": []
          },
          "metadata": {},
          "execution_count": 4
        }
      ]
    },
    {
      "cell_type": "code",
      "source": [],
      "metadata": {
        "id": "OVKLT7Scc2YU"
      },
      "execution_count": null,
      "outputs": []
    }
  ]
}